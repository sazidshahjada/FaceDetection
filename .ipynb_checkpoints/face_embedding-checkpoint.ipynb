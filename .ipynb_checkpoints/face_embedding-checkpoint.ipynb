{
 "cells": [
  {
   "cell_type": "code",
   "execution_count": 76,
   "id": "ec0c16e4-59cd-4e74-8ea3-e72bd354b75a",
   "metadata": {},
   "outputs": [],
   "source": [
    "import warnings\n",
    "warnings.filterwarnings(\"ignore\", category=FutureWarning)"
   ]
  },
  {
   "cell_type": "code",
   "execution_count": 77,
   "id": "88050d24-1e03-4f3d-affc-757a59cac619",
   "metadata": {},
   "outputs": [],
   "source": [
    "import uuid\n",
    "import time\n",
    "\n",
    "def generate_face_id(num_char=8):\n",
    "    return uuid.uuid4().hex[:num_char]"
   ]
  },
  {
   "cell_type": "code",
   "execution_count": 78,
   "id": "24490ea5-de74-44cd-a33a-b794bfd4fa5d",
   "metadata": {},
   "outputs": [],
   "source": [
    "import torch\n",
    "from torchvision import transforms\n",
    "import numpy as np\n",
    "from PIL import Image\n",
    "from facenet_pytorch import MTCNN, InceptionResnetV1\n",
    "from IPython.display import display\n",
    "\n",
    "def image_to_face_tensors(image, min_face_size=20, threshold_p_val=0.9, device='cpu'):\n",
    "    mtcnn = MTCNN(keep_all=True, min_face_size=min_face_size, device=device)\n",
    "    transform = transforms.ToTensor()\n",
    "\n",
    "    bounds, p_vals = mtcnn.detect(image)\n",
    "\n",
    "    threshold_p_val = threshold_p_val\n",
    "    valid_bounds = []\n",
    "    valid_p_vals = []\n",
    "    if bounds is not None:\n",
    "        for box, p_val in zip(bounds, p_vals):\n",
    "            if p_val > threshold_p_val:\n",
    "                valid_bounds.append(box)\n",
    "                valid_p_vals.append(p_val)\n",
    "\n",
    "    face_tensors = []\n",
    "    boundary_boxs = []\n",
    "    if valid_bounds is not None:\n",
    "        for i, box in enumerate(valid_bounds):\n",
    "            (box[0], box[1], box[2], box[3]) = (box[0] - 20, box[1] - 30,\n",
    "                                                     box[2] + 20, box[3] + 20)\n",
    "            face = img.crop(tuple(box))\n",
    "            face_tensor = transform(face).to(device)\n",
    "\n",
    "            face_tensors.append(face_tensor)\n",
    "            boundary_boxs.append(box)\n",
    "\n",
    "    return face_tensors, boundary_boxs"
   ]
  },
  {
   "cell_type": "code",
   "execution_count": 79,
   "id": "c9284079-ca21-43df-9617-d207f0d7caf6",
   "metadata": {},
   "outputs": [],
   "source": [
    "def face_tensor_to_embedding(face_tensor, resnet_model='vggface2', device='cpu'):\n",
    "    resnet = InceptionResnetV1(pretrained=resnet_model, device=device).eval()\n",
    "\n",
    "    with torch.inference_mode():\n",
    "        face_embedding = resnet(face_tensor.unsqueeze(0))\n",
    "\n",
    "    return face_embedding.cpu()"
   ]
  },
  {
   "cell_type": "code",
   "execution_count": null,
   "id": "18ce1daa-958b-4ee2-9ef2-e21b277c1a0d",
   "metadata": {},
   "outputs": [],
   "source": []
  }
 ],
 "metadata": {
  "kernelspec": {
   "display_name": "Python 3 (ipykernel)",
   "language": "python",
   "name": "python3"
  },
  "language_info": {
   "codemirror_mode": {
    "name": "ipython",
    "version": 3
   },
   "file_extension": ".py",
   "mimetype": "text/x-python",
   "name": "python",
   "nbconvert_exporter": "python",
   "pygments_lexer": "ipython3",
   "version": "3.12.4"
  }
 },
 "nbformat": 4,
 "nbformat_minor": 5
}
