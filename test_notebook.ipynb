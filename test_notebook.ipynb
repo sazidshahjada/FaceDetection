{
 "cells": [
  {
   "cell_type": "code",
   "execution_count": 1,
   "id": "ec0c16e4-59cd-4e74-8ea3-e72bd354b75a",
   "metadata": {},
   "outputs": [],
   "source": [
    "import warnings\n",
    "warnings.filterwarnings(\"ignore\", category=FutureWarning)"
   ]
  },
  {
   "cell_type": "code",
   "execution_count": 2,
   "id": "88050d24-1e03-4f3d-affc-757a59cac619",
   "metadata": {},
   "outputs": [],
   "source": [
    "import uuid\n",
    "import time\n",
    "\n",
    "def generate_face_id(num_char=8):\n",
    "    return uuid.uuid4().hex[:num_char]"
   ]
  },
  {
   "cell_type": "code",
   "execution_count": 3,
   "id": "24490ea5-de74-44cd-a33a-b794bfd4fa5d",
   "metadata": {},
   "outputs": [],
   "source": [
    "import torch\n",
    "from torchvision import transforms\n",
    "import numpy as np\n",
    "from PIL import Image\n",
    "from facenet_pytorch import MTCNN, InceptionResnetV1\n",
    "from IPython.display import display\n",
    "\n",
    "def image_to_face(image, min_face_size=20, threshold_p_val=0.9, device='cpu'):\n",
    "    mtcnn = MTCNN(keep_all=True, min_face_size=min_face_size, device=device)\n",
    "    transform = transforms.ToTensor()\n",
    "\n",
    "    bounds, p_vals = mtcnn.detect(image)\n",
    "\n",
    "    threshold_p_val = threshold_p_val\n",
    "    valid_bounds = []\n",
    "    valid_p_vals = []\n",
    "    if bounds is not None:\n",
    "        for box, p_val in zip(bounds, p_vals):\n",
    "            if p_val > threshold_p_val:\n",
    "                valid_bounds.append(box)\n",
    "                valid_p_vals.append(p_val)\n",
    "\n",
    "    face_tensors = []\n",
    "    boundary_boxs = []\n",
    "    if valid_bounds is not None:\n",
    "        for i, box in enumerate(valid_bounds):\n",
    "            (box[0], box[1], box[2], box[3]) = (box[0] - 20, box[1] - 30,\n",
    "                                                     box[2] + 20, box[3] + 20)\n",
    "            face = image.crop(tuple(box))\n",
    "            face_tensor = transform(face).to(device)\n",
    "\n",
    "            face_tensors.append(face_tensor)\n",
    "            boundary_boxs.append(box)\n",
    "\n",
    "    return face_tensors, boundary_boxs, valid_p_vals"
   ]
  },
  {
   "cell_type": "code",
   "execution_count": 4,
   "id": "c9284079-ca21-43df-9617-d207f0d7caf6",
   "metadata": {},
   "outputs": [],
   "source": [
    "def face_tensor_to_embedding(face_tensor, resnet_model='vggface2', device='cpu'):\n",
    "    resnet = InceptionResnetV1(pretrained=resnet_model, device=device).eval()\n",
    "\n",
    "    with torch.inference_mode():\n",
    "        face_embedding = resnet(face_tensor.unsqueeze(0))\n",
    "\n",
    "    return face_embedding.cpu()"
   ]
  },
  {
   "cell_type": "code",
   "execution_count": 5,
   "id": "18ce1daa-958b-4ee2-9ef2-e21b277c1a0d",
   "metadata": {},
   "outputs": [],
   "source": [
    "def image_to_face_list(image_path):\n",
    "    image = Image.open(image_path)\n",
    "\n",
    "    face_list = []\n",
    "\n",
    "    face_tensors, bounds, p_vals = image_to_face(image)\n",
    "\n",
    "    for i, face_tensor in enumerate(face_tensors):\n",
    "        face_embedding = face_tensor_to_embedding(face_tensor)\n",
    "        face_id = generate_face_id()\n",
    "\n",
    "        face_dict = dict()\n",
    "\n",
    "        face_dict['id'] = face_id\n",
    "        face_dict['embedding'] = face_embedding\n",
    "        face_dict['boundary_box'] = bounds[i]\n",
    "        face_dict['probability'] = p_vals[i]\n",
    "\n",
    "        face_list.append(face_dict)\n",
    "\n",
    "    return face_list"
   ]
  },
  {
   "cell_type": "code",
   "execution_count": 20,
   "id": "7c35fd5c-0ba3-4cd7-944a-c2ec58e92710",
   "metadata": {},
   "outputs": [
    {
     "data": {
      "image/jpeg": "[encoded data removed]",
      "image/png": "[encoded data removed]",
      "text/plain": [
       "<PIL.Image.Image image mode=RGB size=160x160>"
      ]
     },
     "metadata": {},
     "output_type": "display_data"
    },
    {
     "name": "stdout",
     "output_type": "stream",
     "text": [
      "torch.Size([1, 3, 160, 160])\n",
      "<class 'torch.Tensor'>\n"
     ]
    },
    {
     "ename": "RuntimeError",
     "evalue": "torch.cat(): expected a non-empty list of Tensors",
     "output_type": "error",
     "traceback": [
      "\u001b[0;31m---------------------------------------------------------------------------\u001b[0m",
      "\u001b[0;31mRuntimeError\u001b[0m                              Traceback (most recent call last)",
      "Cell \u001b[0;32mIn[20], line 32\u001b[0m\n\u001b[1;32m     30\u001b[0m \u001b[38;5;28mprint\u001b[39m(image\u001b[38;5;241m.\u001b[39mshape)\n\u001b[1;32m     31\u001b[0m \u001b[38;5;28mprint\u001b[39m(\u001b[38;5;28mtype\u001b[39m(image))\n\u001b[0;32m---> 32\u001b[0m boxes, _ \u001b[38;5;241m=\u001b[39m \u001b[43mmtcnn\u001b[49m\u001b[38;5;241;43m.\u001b[39;49m\u001b[43mdetect\u001b[49m\u001b[43m(\u001b[49m\u001b[43mimage\u001b[49m\u001b[43m)\u001b[49m  \u001b[38;5;66;03m# shape should be (1, C, H, W)\u001b[39;00m\n\u001b[1;32m     33\u001b[0m \u001b[38;5;28mprint\u001b[39m(\u001b[38;5;28mtype\u001b[39m(image))\n\u001b[1;32m     35\u001b[0m \u001b[38;5;28;01mif\u001b[39;00m boxes \u001b[38;5;129;01mis\u001b[39;00m \u001b[38;5;129;01mnot\u001b[39;00m \u001b[38;5;28;01mNone\u001b[39;00m:\n",
      "File \u001b[0;32m~/anaconda3/envs/MLenv/lib/python3.12/site-packages/facenet_pytorch/models/mtcnn.py:313\u001b[0m, in \u001b[0;36mMTCNN.detect\u001b[0;34m(self, img, landmarks)\u001b[0m\n\u001b[1;32m    273\u001b[0m \u001b[38;5;250m\u001b[39m\u001b[38;5;124;03m\"\"\"Detect all faces in PIL image and return bounding boxes and optional facial landmarks.\u001b[39;00m\n\u001b[1;32m    274\u001b[0m \n\u001b[1;32m    275\u001b[0m \u001b[38;5;124;03mThis method is used by the forward method and is also useful for face detection tasks\u001b[39;00m\n\u001b[0;32m   (...)\u001b[0m\n\u001b[1;32m    309\u001b[0m \u001b[38;5;124;03m>>> img_draw.save('annotated_faces.png')\u001b[39;00m\n\u001b[1;32m    310\u001b[0m \u001b[38;5;124;03m\"\"\"\u001b[39;00m\n\u001b[1;32m    312\u001b[0m \u001b[38;5;28;01mwith\u001b[39;00m torch\u001b[38;5;241m.\u001b[39mno_grad():\n\u001b[0;32m--> 313\u001b[0m     batch_boxes, batch_points \u001b[38;5;241m=\u001b[39m \u001b[43mdetect_face\u001b[49m\u001b[43m(\u001b[49m\n\u001b[1;32m    314\u001b[0m \u001b[43m        \u001b[49m\u001b[43mimg\u001b[49m\u001b[43m,\u001b[49m\u001b[43m \u001b[49m\u001b[38;5;28;43mself\u001b[39;49m\u001b[38;5;241;43m.\u001b[39;49m\u001b[43mmin_face_size\u001b[49m\u001b[43m,\u001b[49m\n\u001b[1;32m    315\u001b[0m \u001b[43m        \u001b[49m\u001b[38;5;28;43mself\u001b[39;49m\u001b[38;5;241;43m.\u001b[39;49m\u001b[43mpnet\u001b[49m\u001b[43m,\u001b[49m\u001b[43m \u001b[49m\u001b[38;5;28;43mself\u001b[39;49m\u001b[38;5;241;43m.\u001b[39;49m\u001b[43mrnet\u001b[49m\u001b[43m,\u001b[49m\u001b[43m \u001b[49m\u001b[38;5;28;43mself\u001b[39;49m\u001b[38;5;241;43m.\u001b[39;49m\u001b[43monet\u001b[49m\u001b[43m,\u001b[49m\n\u001b[1;32m    316\u001b[0m \u001b[43m        \u001b[49m\u001b[38;5;28;43mself\u001b[39;49m\u001b[38;5;241;43m.\u001b[39;49m\u001b[43mthresholds\u001b[49m\u001b[43m,\u001b[49m\u001b[43m \u001b[49m\u001b[38;5;28;43mself\u001b[39;49m\u001b[38;5;241;43m.\u001b[39;49m\u001b[43mfactor\u001b[49m\u001b[43m,\u001b[49m\n\u001b[1;32m    317\u001b[0m \u001b[43m        \u001b[49m\u001b[38;5;28;43mself\u001b[39;49m\u001b[38;5;241;43m.\u001b[39;49m\u001b[43mdevice\u001b[49m\n\u001b[1;32m    318\u001b[0m \u001b[43m    \u001b[49m\u001b[43m)\u001b[49m\n\u001b[1;32m    320\u001b[0m boxes, probs, points \u001b[38;5;241m=\u001b[39m [], [], []\n\u001b[1;32m    321\u001b[0m \u001b[38;5;28;01mfor\u001b[39;00m box, point \u001b[38;5;129;01min\u001b[39;00m \u001b[38;5;28mzip\u001b[39m(batch_boxes, batch_points):\n",
      "File \u001b[0;32m~/anaconda3/envs/MLenv/lib/python3.12/site-packages/facenet_pytorch/models/utils/detect_face.py:83\u001b[0m, in \u001b[0;36mdetect_face\u001b[0;34m(imgs, minsize, pnet, rnet, onet, threshold, factor, device)\u001b[0m\n\u001b[1;32m     80\u001b[0m     scale_picks\u001b[38;5;241m.\u001b[39mappend(pick \u001b[38;5;241m+\u001b[39m offset)\n\u001b[1;32m     81\u001b[0m     offset \u001b[38;5;241m+\u001b[39m\u001b[38;5;241m=\u001b[39m boxes_scale\u001b[38;5;241m.\u001b[39mshape[\u001b[38;5;241m0\u001b[39m]\n\u001b[0;32m---> 83\u001b[0m boxes \u001b[38;5;241m=\u001b[39m \u001b[43mtorch\u001b[49m\u001b[38;5;241;43m.\u001b[39;49m\u001b[43mcat\u001b[49m\u001b[43m(\u001b[49m\u001b[43mboxes\u001b[49m\u001b[43m,\u001b[49m\u001b[43m \u001b[49m\u001b[43mdim\u001b[49m\u001b[38;5;241;43m=\u001b[39;49m\u001b[38;5;241;43m0\u001b[39;49m\u001b[43m)\u001b[49m\n\u001b[1;32m     84\u001b[0m image_inds \u001b[38;5;241m=\u001b[39m torch\u001b[38;5;241m.\u001b[39mcat(image_inds, dim\u001b[38;5;241m=\u001b[39m\u001b[38;5;241m0\u001b[39m)\n\u001b[1;32m     86\u001b[0m scale_picks \u001b[38;5;241m=\u001b[39m torch\u001b[38;5;241m.\u001b[39mcat(scale_picks, dim\u001b[38;5;241m=\u001b[39m\u001b[38;5;241m0\u001b[39m)\n",
      "\u001b[0;31mRuntimeError\u001b[0m: torch.cat(): expected a non-empty list of Tensors"
     ]
    }
   ],
   "source": [
    "import torch\n",
    "from PIL import Image\n",
    "from torchvision import transforms\n",
    "from image_to_list_of_dict import create_unlabel_dataloader\n",
    "from facenet_pytorch import MTCNN\n",
    "from IPython.display import display\n",
    "\n",
    "# Set up the image directory and dataloader\n",
    "image_dir = \"/home/sajid/Work/ResilientSage/FaceNet/unsplash_face\"\n",
    "dataloader = create_unlabel_dataloader(image_dir, image_size=(160, 160), batch_size=32, num_workers=4)\n",
    "\n",
    "# Initialize MTCNN for face detection\n",
    "mtcnn = MTCNN(keep_all=True, min_face_size=5)\n",
    "\n",
    "# Loop through the dataloader to display images and detect faces\n",
    "for images, _ in dataloader:\n",
    "    for image in images:\n",
    "        # Convert the tensor to a PIL image\n",
    "        image_np = image.permute(1, 2, 0)  # Change from (C, H, W) to (H, W, C)\n",
    "        image_np = (image_np * 255).byte().numpy()  # Convert to a numpy array with values in [0, 255]\n",
    "\n",
    "        # Create a PIL image\n",
    "        img = Image.fromarray(image_np)\n",
    "\n",
    "        # Display the image\n",
    "        display(img)\n",
    "\n",
    "        # Detect faces (need to unsqueeze to make it 4D for batch processing)\n",
    "        image = image.unsqueeze(0)\n",
    "        print(image.shape)\n",
    "        print(type(image))\n",
    "        boxes, _ = mtcnn.detect(image)  # shape should be (1, C, H, W)\n",
    "        print(type(image))\n",
    "\n",
    "        if boxes is not None:\n",
    "            print(\"Detected boxes:\", boxes)  # Print detected bounding boxes\n",
    "        else:\n",
    "            print(\"No faces detected.\")  # Handle the case where no faces are detected\n"
   ]
  },
  {
   "cell_type": "code",
   "execution_count": 21,
   "id": "7111ee17-7c6d-412e-90c8-d83107859e91",
   "metadata": {},
   "outputs": [
    {
     "ename": "RuntimeError",
     "evalue": "torch.cat(): expected a non-empty list of Tensors",
     "output_type": "error",
     "traceback": [
      "\u001b[0;31m---------------------------------------------------------------------------\u001b[0m",
      "\u001b[0;31mRuntimeError\u001b[0m                              Traceback (most recent call last)",
      "Cell \u001b[0;32mIn[21], line 26\u001b[0m\n\u001b[1;32m     23\u001b[0m img_tensor \u001b[38;5;241m=\u001b[39m img_tensor\u001b[38;5;241m.\u001b[39munsqueeze(\u001b[38;5;241m0\u001b[39m)  \u001b[38;5;66;03m# Now img_tensor is of shape (1, C, H, W)\u001b[39;00m\n\u001b[1;32m     25\u001b[0m \u001b[38;5;66;03m# Detect faces in the image\u001b[39;00m\n\u001b[0;32m---> 26\u001b[0m boxes, points \u001b[38;5;241m=\u001b[39m \u001b[43mmtcnn\u001b[49m\u001b[38;5;241;43m.\u001b[39;49m\u001b[43mdetect\u001b[49m\u001b[43m(\u001b[49m\u001b[43mimg_tensor\u001b[49m\u001b[43m)\u001b[49m\n\u001b[1;32m     28\u001b[0m \u001b[38;5;66;03m# Check the results\u001b[39;00m\n\u001b[1;32m     29\u001b[0m \u001b[38;5;28;01mif\u001b[39;00m boxes \u001b[38;5;129;01mis\u001b[39;00m \u001b[38;5;129;01mnot\u001b[39;00m \u001b[38;5;28;01mNone\u001b[39;00m:\n",
      "File \u001b[0;32m~/anaconda3/envs/MLenv/lib/python3.12/site-packages/facenet_pytorch/models/mtcnn.py:313\u001b[0m, in \u001b[0;36mMTCNN.detect\u001b[0;34m(self, img, landmarks)\u001b[0m\n\u001b[1;32m    273\u001b[0m \u001b[38;5;250m\u001b[39m\u001b[38;5;124;03m\"\"\"Detect all faces in PIL image and return bounding boxes and optional facial landmarks.\u001b[39;00m\n\u001b[1;32m    274\u001b[0m \n\u001b[1;32m    275\u001b[0m \u001b[38;5;124;03mThis method is used by the forward method and is also useful for face detection tasks\u001b[39;00m\n\u001b[0;32m   (...)\u001b[0m\n\u001b[1;32m    309\u001b[0m \u001b[38;5;124;03m>>> img_draw.save('annotated_faces.png')\u001b[39;00m\n\u001b[1;32m    310\u001b[0m \u001b[38;5;124;03m\"\"\"\u001b[39;00m\n\u001b[1;32m    312\u001b[0m \u001b[38;5;28;01mwith\u001b[39;00m torch\u001b[38;5;241m.\u001b[39mno_grad():\n\u001b[0;32m--> 313\u001b[0m     batch_boxes, batch_points \u001b[38;5;241m=\u001b[39m \u001b[43mdetect_face\u001b[49m\u001b[43m(\u001b[49m\n\u001b[1;32m    314\u001b[0m \u001b[43m        \u001b[49m\u001b[43mimg\u001b[49m\u001b[43m,\u001b[49m\u001b[43m \u001b[49m\u001b[38;5;28;43mself\u001b[39;49m\u001b[38;5;241;43m.\u001b[39;49m\u001b[43mmin_face_size\u001b[49m\u001b[43m,\u001b[49m\n\u001b[1;32m    315\u001b[0m \u001b[43m        \u001b[49m\u001b[38;5;28;43mself\u001b[39;49m\u001b[38;5;241;43m.\u001b[39;49m\u001b[43mpnet\u001b[49m\u001b[43m,\u001b[49m\u001b[43m \u001b[49m\u001b[38;5;28;43mself\u001b[39;49m\u001b[38;5;241;43m.\u001b[39;49m\u001b[43mrnet\u001b[49m\u001b[43m,\u001b[49m\u001b[43m \u001b[49m\u001b[38;5;28;43mself\u001b[39;49m\u001b[38;5;241;43m.\u001b[39;49m\u001b[43monet\u001b[49m\u001b[43m,\u001b[49m\n\u001b[1;32m    316\u001b[0m \u001b[43m        \u001b[49m\u001b[38;5;28;43mself\u001b[39;49m\u001b[38;5;241;43m.\u001b[39;49m\u001b[43mthresholds\u001b[49m\u001b[43m,\u001b[49m\u001b[43m \u001b[49m\u001b[38;5;28;43mself\u001b[39;49m\u001b[38;5;241;43m.\u001b[39;49m\u001b[43mfactor\u001b[49m\u001b[43m,\u001b[49m\n\u001b[1;32m    317\u001b[0m \u001b[43m        \u001b[49m\u001b[38;5;28;43mself\u001b[39;49m\u001b[38;5;241;43m.\u001b[39;49m\u001b[43mdevice\u001b[49m\n\u001b[1;32m    318\u001b[0m \u001b[43m    \u001b[49m\u001b[43m)\u001b[49m\n\u001b[1;32m    320\u001b[0m boxes, probs, points \u001b[38;5;241m=\u001b[39m [], [], []\n\u001b[1;32m    321\u001b[0m \u001b[38;5;28;01mfor\u001b[39;00m box, point \u001b[38;5;129;01min\u001b[39;00m \u001b[38;5;28mzip\u001b[39m(batch_boxes, batch_points):\n",
      "File \u001b[0;32m~/anaconda3/envs/MLenv/lib/python3.12/site-packages/facenet_pytorch/models/utils/detect_face.py:83\u001b[0m, in \u001b[0;36mdetect_face\u001b[0;34m(imgs, minsize, pnet, rnet, onet, threshold, factor, device)\u001b[0m\n\u001b[1;32m     80\u001b[0m     scale_picks\u001b[38;5;241m.\u001b[39mappend(pick \u001b[38;5;241m+\u001b[39m offset)\n\u001b[1;32m     81\u001b[0m     offset \u001b[38;5;241m+\u001b[39m\u001b[38;5;241m=\u001b[39m boxes_scale\u001b[38;5;241m.\u001b[39mshape[\u001b[38;5;241m0\u001b[39m]\n\u001b[0;32m---> 83\u001b[0m boxes \u001b[38;5;241m=\u001b[39m \u001b[43mtorch\u001b[49m\u001b[38;5;241;43m.\u001b[39;49m\u001b[43mcat\u001b[49m\u001b[43m(\u001b[49m\u001b[43mboxes\u001b[49m\u001b[43m,\u001b[49m\u001b[43m \u001b[49m\u001b[43mdim\u001b[49m\u001b[38;5;241;43m=\u001b[39;49m\u001b[38;5;241;43m0\u001b[39;49m\u001b[43m)\u001b[49m\n\u001b[1;32m     84\u001b[0m image_inds \u001b[38;5;241m=\u001b[39m torch\u001b[38;5;241m.\u001b[39mcat(image_inds, dim\u001b[38;5;241m=\u001b[39m\u001b[38;5;241m0\u001b[39m)\n\u001b[1;32m     86\u001b[0m scale_picks \u001b[38;5;241m=\u001b[39m torch\u001b[38;5;241m.\u001b[39mcat(scale_picks, dim\u001b[38;5;241m=\u001b[39m\u001b[38;5;241m0\u001b[39m)\n",
      "\u001b[0;31mRuntimeError\u001b[0m: torch.cat(): expected a non-empty list of Tensors"
     ]
    }
   ],
   "source": [
    "import torch\n",
    "from PIL import Image\n",
    "from torchvision import transforms\n",
    "from facenet_pytorch import MTCNN\n",
    "\n",
    "# Initialize MTCNN\n",
    "mtcnn = MTCNN(keep_all=True)\n",
    "\n",
    "# Load an image using PIL\n",
    "image_path = '/home/sajid/Work/ResilientSage/FaceNet/unsplash_face2LdvigX5xkc.jpg'  # Replace with your image path\n",
    "img = Image.open(image_path)\n",
    "\n",
    "# Define a transform to convert the image to a tensor\n",
    "transform = transforms.Compose([\n",
    "    transforms.Resize((300, 300)),  # Resize to desired dimensions\n",
    "    transforms.ToTensor(),  # Convert to tensor\n",
    "])\n",
    "\n",
    "# Apply the transform\n",
    "img_tensor = transform(img)  # Now img_tensor is of shape (C, H, W)\n",
    "\n",
    "# Unsqueeze to add a batch dimension (N, C, H, W)\n",
    "img_tensor = img_tensor.unsqueeze(0)  # Now img_tensor is of shape (1, C, H, W)\n",
    "\n",
    "# Detect faces in the image\n",
    "boxes, points = mtcnn.detect(img_tensor)\n",
    "\n",
    "# Check the results\n",
    "if boxes is not None:\n",
    "    print(\"Detected boxes:\", boxes)\n",
    "else:\n",
    "    print(\"No faces detected.\")\n"
   ]
  },
  {
   "cell_type": "code",
   "execution_count": 23,
   "id": "4166a610",
   "metadata": {},
   "outputs": [],
   "source": [
    "from image_to_list_of_dict import create_unlabel_dataloader, detect_face, create_face_embedding, create_json"
   ]
  },
  {
   "cell_type": "code",
   "execution_count": 25,
   "id": "3e2ee416",
   "metadata": {},
   "outputs": [
    {
     "name": "stdout",
     "output_type": "stream",
     "text": [
      "[\n",
      "    {\n",
      "        \"name\": \"Alice\",\n",
      "        \"age\": 25,\n",
      "        \"city\": \"New York\"\n",
      "    },\n",
      "    {\n",
      "        \"name\": \"Bob\",\n",
      "        \"age\": 30,\n",
      "        \"city\": \"San Francisco\"\n",
      "    },\n",
      "    {\n",
      "        \"name\": \"Charlie\",\n",
      "        \"age\": 35,\n",
      "        \"city\": \"Chicago\"\n",
      "    }\n",
      "]\n"
     ]
    }
   ],
   "source": [
    "import json\n",
    "\n",
    "# Example list of dictionaries\n",
    "list_of_dicts = [\n",
    "    {\"name\": \"Alice\", \"age\": 25, \"city\": \"New York\"},\n",
    "    {\"name\": \"Bob\", \"age\": 30, \"city\": \"San Francisco\"},\n",
    "    {\"name\": \"Charlie\", \"age\": 35, \"city\": \"Chicago\"}\n",
    "]\n",
    "\n",
    "# Convert list of dictionaries to JSON\n",
    "json_data = json.dumps(list_of_dicts, indent=4)\n",
    "\n",
    "# Write JSON data to a file\n",
    "# with open('output.json', 'w') as f:\n",
    "#     f.write(json_data)\n",
    "\n",
    "print(json_data)"
   ]
  },
  {
   "cell_type": "code",
   "execution_count": null,
   "id": "ccadcd43",
   "metadata": {},
   "outputs": [],
   "source": []
  }
 ],
 "metadata": {
  "kernelspec": {
   "display_name": "MLenv",
   "language": "python",
   "name": "python3"
  },
  "language_info": {
   "codemirror_mode": {
    "name": "ipython",
    "version": 3
   },
   "file_extension": ".py",
   "mimetype": "text/x-python",
   "name": "python",
   "nbconvert_exporter": "python",
   "pygments_lexer": "ipython3",
   "version": "3.12.4"
  }
 },
 "nbformat": 4,
 "nbformat_minor": 5
}
